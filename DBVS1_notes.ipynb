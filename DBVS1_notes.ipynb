{
 "cells": [
  {
   "cell_type": "markdown",
   "metadata": {},
   "source": [
    "# Pagrindinis puslapis\n",
    "[Nuoroda į Olego puslapį](https://docs.google.com/document/d/17xDV1KA8kTpYMzRITa4UPyauafZ_w8KdMh3NJ4ycck8/edit)\n",
    "\n",
    "## Pirmas laboratorinis\n",
    "\n",
    "* [Instrukcijos](https://klevas.mif.vu.lt/~baronas/dbvs/uzduot_1/informat1.htm): automatinis užduoties suformulavimas, reikalavimai, **nuorodos į papildomą informaciją**\n",
    "* Laboratorinio šaltinis: [vadovėlio](https://klevas.mif.vu.lt/~baronas/dbvs/book/index.htm) 2 [skyrius](https://klevas.mif.vu.lt/baronas/dbvs/book/dbvs002.pdf).\n",
    "* [Biblio DB aprašymas](https://klevas.mif.vu.lt/~baronas/dbvs/biblio/bibliosh.htm)."
   ]
  },
  {
   "cell_type": "markdown",
   "metadata": {},
   "source": [
    "## Antras laboratorinis\n",
    "\n",
    "* [Trigerio pavyzdys](https://stackoverflow.com/questions/9556474/how-do-i-automatically-update-a-timestamp-in-postgresql/9556527#9556527) + [paprastesnis pavyzdys](https://www.postgresqltutorial.com/creating-first-trigger-postgresql/)\n",
    "* [Instrukcijos](https://docs.google.com/document/d/1WABh5bWES6Hz3qHXjd2P87JbFK6FV56znRiRuXEmKb0/edit), ką ten daryti\n",
    "* Laboratorinio šaltinis: [vadovėlio](https://klevas.mif.vu.lt/~baronas/dbvs/book/index.htm) 2-9 skyriai."
   ]
  },
  {
   "cell_type": "markdown",
   "metadata": {},
   "source": [
    "### Medžiaga\n",
    "* [Olego tutorialai](https://www.youtube.com/channel/UCmrFaH8yLvYGYpPLcUHdcaA/videos?view_as=subscriber)\n",
    "* [Papildomas tekstinis tutorial](https://www.postgresqltutorial.com)\n",
    "* [Nuoroda į formatavimą](https://sqlformat.org/)\n",
    "* [Darbo aplinka užduotims atlikti](https://rextester.com/l/postgresql_online_compiler)\n",
    "* [Codesignal arkada](https://app.codesignal.com/arcade)\n",
    "* [Udemy kursai](https://www.udemy.com/course/the-ultimate-mysql-bootcamp-go-from-sql-beginner-to-expert/learn/lecture/6914144)"
   ]
  },
  {
   "cell_type": "markdown",
   "metadata": {},
   "source": [
    "### Egzamino temos\n",
    "* DB ir DBVS samprata, paskirtis ir funkcijos.\n",
    "* Pagrindinės reliacinio duomenų modelio sąvokos.\n",
    "* Reliacinių DB projektavimas: ER modelis, ER diagramos, jų transformavimas į reliacinį duomenų modelį.\n",
    "* DB norminės formos.\n",
    "* SQL kalba: pagrindiniai kalbos elementai, duomenų apibrėžimo, išrinkimo, modifikavimo ir valdymo sakiniai.\n",
    "* Duomenų analizė agreguojant ir grupuojant duomenis.\n",
    "* Duomenų vientisumo užtikrinimas: reikalavimai reikšmėms, lentelių raktai, išoriniai raktai, dalykinės taisyklės, trigeriai, transakcijos.\n",
    "* Virtualiosios lentelės.\n",
    "* Duomenų indeksavimas.\n",
    "* Duomenų saugumas.\n",
    "* Efektyvaus DBVS funkcionavimo užtikrinimas.\n",
    "* NoSQL ir NewSQL DBVS.\n"
   ]
  },
  {
   "cell_type": "code",
   "execution_count": null,
   "metadata": {},
   "outputs": [],
   "source": [
    "### Bankas\n",
    "d = dict()\n",
    "d['ER modelis'] = 'formalizuotas dalykinės srities aprašas'\n",
    "d['Esybė'] = 'vienatipių objektų klasė'\n",
    "from random import shuffle\n",
    "unans = [n for n in d]\n",
    "while len(unans):\n",
    "    X = len(unans)\n",
    "    shuffle(unans)\n",
    "    for i in range(len(unans)-1,-1,-1):\n",
    "        x = input(unans[i]+' ')\n",
    "        if x != d[unans[i]].lower():\n",
    "            print(f'wrong, {unans[i]} yra {d[unans[i]]}')\n",
    "        else: \n",
    "            print('right')\n",
    "            del unans[i]\n",
    "        if x=='': break\n",
    "    print(f'{len(unans)}/{X} is left')\n",
    "print('all clear')"
   ]
  }
 ],
 "metadata": {
  "kernelspec": {
   "display_name": "Python 3",
   "language": "python",
   "name": "python3"
  },
  "language_info": {
   "codemirror_mode": {
    "name": "ipython",
    "version": 3
   },
   "file_extension": ".py",
   "mimetype": "text/x-python",
   "name": "python",
   "nbconvert_exporter": "python",
   "pygments_lexer": "ipython3",
   "version": "3.7.4"
  }
 },
 "nbformat": 4,
 "nbformat_minor": 2
}
