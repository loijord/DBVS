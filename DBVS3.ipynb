{
 "cells": [
  {
   "cell_type": "markdown",
   "metadata": {},
   "source": [
    "Šio darbo tikslas yra panagrinėti patternus, kurių laikantis duomenų bazių modeliavimas (ER diagrama, DB schemas ir PostgreSQL skriptas) tampa nesudėtingu procesu. Norint gerai suprasti šiuos principus reikėtų jau esamų pavyzdžių, kuriuos būtų galima aiškiai pavaizduoti. Čia pateiksiu pilną modeliavimo pavyzdį, naudojamą [Udemy kursuose](https://www.udemy.com/course/the-ultimate-mysql-bootcamp-go-from-sql-beginner-to-expert) bei keletą ER schemų."
   ]
  },
  {
   "cell_type": "markdown",
   "metadata": {},
   "source": [
    "### Tutorialai apie projektavimą\n",
    "* [ER braižymas](https://creately.com/blog/diagrams/er-diagrams-tutorial/)\n",
    "* [Norminės formos](http://dinesql.blogspot.com/2017/06/database-normalization-1nf-2nf-3nf-bcnf-4nf-5nf-with-samples.html)\n",
    "* [Source?](https://klevas.mif.vu.lt/~baronas/dbvs/slides/index.htm)\n",
    "* [Nuoroda į Olego veikiančius pavyzdžius](https://docs.google.com/document/d/17xDV1KA8kTpYMzRITa4UPyauafZ_w8KdMh3NJ4ycck8/edit)"
   ]
  },
  {
   "cell_type": "markdown",
   "metadata": {},
   "source": [
    "## Instagramas\n",
    "\n",
    "Pamėginau pateiktą Postresql skriptą pavaizduoti ER diagrama ir DB schema.\n",
    "### Instagramo ER diagrama \n",
    "(pažymėti taip pat ir svetimi raktai) \n",
    "\n",
    "![](instagram_diagram.png)\n",
    "### Instagramo DB schema\n",
    "\n",
    "![](instagram_schema.png)\n",
    "\n",
    "### Instagramo DB užpildymas testiniais duomenimis\n",
    "\n",
    "[Rextester](https://rextester.com/DKOE63218)"
   ]
  },
  {
   "cell_type": "code",
   "execution_count": null,
   "metadata": {},
   "outputs": [],
   "source": [
    "Instagramo"
   ]
  }
 ],
 "metadata": {
  "kernelspec": {
   "display_name": "Python 3",
   "language": "python",
   "name": "python3"
  },
  "language_info": {
   "codemirror_mode": {
    "name": "ipython",
    "version": 3
   },
   "file_extension": ".py",
   "mimetype": "text/x-python",
   "name": "python",
   "nbconvert_exporter": "python",
   "pygments_lexer": "ipython3",
   "version": "3.7.4"
  }
 },
 "nbformat": 4,
 "nbformat_minor": 2
}
