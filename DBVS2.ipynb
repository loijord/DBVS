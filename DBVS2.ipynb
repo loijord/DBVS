{
 "cells": [
  {
   "cell_type": "markdown",
   "metadata": {},
   "source": [
    "Antrame laboratoriniame darbe bendrai reikėjo įgyvendinti šiuos reikalavimus:\n",
    "    \n",
    "1. Pasirinktos dalykinės srities ER diagrama, kurioje yra bent 3 logiškai pagrįstos ir tarpusavyje susiję esybės; pagal ER modelį sudaryta ir pavaizduota grafiškai DB reliacinė schema.\n",
    "2. Sukurtos ir užpildytos testiniais duomenimis lentelės (su pirminiais bei išoriniais raktais ir reikalavimais reikšmėms), jų sukūrimo (apibrėžimo), užpildymo testiniais duomenimis bei ištrynimo sakiniai.\n",
    "3. Sukurtos virtualiosios lentelės, indeksai, trigeriai, jų apibrėžimo bei ištrynimo sakiniai; duomenų paieškos, įvedimo, atnaujinimo ir trynimo sakiniai."
   ]
  },
  {
   "cell_type": "markdown",
   "metadata": {},
   "source": [
    "### ER diagrama ir DB schema"
   ]
  },
  {
   "cell_type": "markdown",
   "metadata": {},
   "source": [
    "Pasirinkau nagrinėti tipinę platformą, kurioje programuotojai įvairiomis kalbomis sprendžia uždavinius iš duoto uždavinių sąrašo ir rungtyniauja tarpusavyje. Jie taip pat turi papildomų opcijų, pavyzdžiui gali pasikviesti kitus narius į draugus arba lik'inti/dislik'inti išspręstus uždavinius. "
   ]
  },
  {
   "cell_type": "markdown",
   "metadata": {},
   "source": [
    "#### ER_diagrama\n",
    "(Išoriniai raktai pažymėti dėl patogumo)\n",
    "![](codesignal_erd.PNG)\n",
    "#### DB_schema\n",
    "![](codesignal_dbs.PNG)"
   ]
  },
  {
   "cell_type": "markdown",
   "metadata": {},
   "source": [
    "### Duomenų bazės užpildymas testiniais duomenimis\n",
    "Duomenų bazę galima atsidaryti per [rextester](https://rextester.com) iš failo [codesignal_data](codesignal_data.txt)"
   ]
  },
  {
   "cell_type": "markdown",
   "metadata": {},
   "source": [
    "Didesnę dalį duomenų generavau su Python naudodamas masyvų operacijas ir tam skirtus paketus: [Faker](https://pypi.org/project/Faker/) ir [Lorem](https://pypi.org/project/lorem/). Apie Faker taikymą naudojant MySQL plačiau kalba [uždaroje paskaitoje](https://www.udemy.com/course/the-ultimate-mysql-bootcamp-go-from-sql-beginner-to-expert/learn/lecture/6996800#questions)."
   ]
  },
  {
   "cell_type": "markdown",
   "metadata": {},
   "source": [
    "### Darbas su duomenų baze\n",
    "Atskirus kodo fragmentus galima leisti po sukurta duomenų baze galima per [rextester](https://rextester.com). Čia rezultatai pateikti vaizdingiau."
   ]
  },
  {
   "cell_type": "markdown",
   "metadata": {},
   "source": [
    "1\\. Tam tikri useriai yra boot''ai. Juos galima pamėginti atskirti taip: patikrinti, ar jie yra priėmę į draugus likusius vartotojus. Nustatytus įtartinus vartotojus ištrinsiu. Tokiu būdu turėtų nelikti vartotojų su numeriais 31, 47 ir 52 bei su jais susijusių lik'ų, sprendimų ir kvietimų į draugus."
   ]
  },
  {
   "cell_type": "raw",
   "metadata": {},
   "source": [
    "WITH boots AS\n",
    "  (SELECT user_id,\n",
    "          COUNT(*)\n",
    "   FROM codefriends\n",
    "   GROUP BY user_id\n",
    "   HAVING COUNT(*) =\n",
    "     (SELECT COUNT(*)\n",
    "      FROM users) - 1)\n",
    "DELETE\n",
    "FROM users\n",
    "WHERE users.id IN\n",
    "    (SELECT user_id\n",
    "     FROM boots);"
   ]
  },
  {
   "cell_type": "markdown",
   "metadata": {},
   "source": [
    "2\\. Tarkime aš taip pat sugalvojau susikurti paskyrą. Tada indeksas, sukūrimo data, lygis ir patirtis turėtų atsirasti automatiškai. "
   ]
  },
  {
   "cell_type": "raw",
   "metadata": {},
   "source": [
    "INSERT INTO users(username)\n",
    "VALUES ('Simonas_mumaitis');\n",
    "SELECT *\n",
    "FROM users\n",
    "WHERE id=\n",
    "    (SELECT MAX(id)\n",
    "     FROM users);"
   ]
  },
  {
   "cell_type": "markdown",
   "metadata": {},
   "source": [
    "3\\. Ouč, susimoviau! Bekurdamas paskyrą ne taip įvedžiau pavardę. Ji yra Mamaitis. Būtinai reikia pasikeisti vartotojo vardą."
   ]
  },
  {
   "cell_type": "raw",
   "metadata": {},
   "source": [
    "UPDATE users\n",
    "SET username='Simonas_mamaitis'\n",
    "WHERE users.username='Simonas_mumaitis';\n",
    "SELECT *\n",
    "FROM users\n",
    "WHERE id=\n",
    "    (SELECT MAX(id)\n",
    "     FROM users);"
   ]
  },
  {
   "cell_type": "markdown",
   "metadata": {},
   "source": [
    "4\\. Sukuriame virtualią lentelę, kurioje rodo vartotojus, neišsprendusius nei vieno uždavinio"
   ]
  },
  {
   "cell_type": "raw",
   "metadata": {},
   "source": [
    "CREATE VIEW neaktyvūs_vartotojai(username) AS\n",
    "SELECT username\n",
    "FROM users\n",
    "WHERE users.id NOT IN\n",
    "    (SELECT user_id\n",
    "     FROM solves\n",
    "     GROUP BY user_id);\n",
    "SELECT *\n",
    "FROM neaktyvūs_vartotojai;\n",
    "DROP VIEW neaktyvūs_vartotojai;"
   ]
  },
  {
   "cell_type": "markdown",
   "metadata": {},
   "source": [
    "5\\. Kiekvienam vartotojui randame visų jo draugų sąrašą. Čia yra bandymas atkartoti MYSQL kalboje vartojamą metodą \"GROUP_CONCAT\"."
   ]
  },
  {
   "cell_type": "raw",
   "metadata": {},
   "source": [
    "CREATE VIEW draugystės(id, friend_id) AS\n",
    "SELECT users.id,\n",
    "       codefriends.user_id\n",
    "FROM users,\n",
    "     codefriends\n",
    "WHERE users.id = codefriends.codefriend_id\n",
    "UNION\n",
    "SELECT users.id,\n",
    "       codefriends.codefriend_id\n",
    "FROM users,\n",
    "     codefriends\n",
    "WHERE users.id = codefriends.user_id;\n",
    "\n",
    "SELECT id,\n",
    "       COUNT(friend_id) AS draugu_kiekis,\n",
    "       array_to_string(array_agg(friend_id), ',') AS draugai\n",
    "FROM draugystės\n",
    "GROUP BY id\n",
    "ORDER BY id\n",
    "LIMIT 10;\n",
    "DROP VIEW draugystės;"
   ]
  },
  {
   "cell_type": "markdown",
   "metadata": {},
   "source": [
    "6\\. Vartotojų lentelę papildysime stulpeliu **language** su nurodytomis kalbomis, kuriomis jie sprendė uždavinius"
   ]
  },
  {
   "cell_type": "raw",
   "metadata": {},
   "source": [
    "ALTER TABLE users ADD COLUMN LANGUAGE VARCHAR(50) DEFAULT NULL;\n",
    "\n",
    "WITH id_language AS\n",
    "  (SELECT solves.user_id AS id,\n",
    "          array_to_string(array_agg(DISTINCT LANGUAGE), ',') AS LANGUAGE\n",
    "   FROM solves\n",
    "   GROUP BY solves.user_id\n",
    "   ORDER BY solves.user_id)\n",
    "UPDATE users\n",
    "SET LANGUAGE=id_language.language\n",
    "FROM id_language\n",
    "WHERE id_language.id = users.id;\n",
    "\n",
    "SELECT *\n",
    "FROM users\n",
    "ORDER BY users.id\n",
    "LIMIT 10;"
   ]
  },
  {
   "cell_type": "markdown",
   "metadata": {},
   "source": [
    "7\\. Vartojams, aišku, rūpi pasilyginti su kitais ir pažiūrėti, kiek jie uždavinių išsprendė ir kokiomis kalbomis (rodomi pirmieji 10):"
   ]
  },
  {
   "cell_type": "raw",
   "metadata": {},
   "source": [
    "SELECT username,\n",
    "       users.language,\n",
    "       COUNT(*)\n",
    "FROM users,\n",
    "     solves\n",
    "WHERE users.id = solves.user_id\n",
    "GROUP BY user_id,\n",
    "         username,\n",
    "         users.language\n",
    "ORDER BY COUNT(*) DESC\n",
    "LIMIT 10;"
   ]
  },
  {
   "cell_type": "markdown",
   "metadata": {},
   "source": [
    "8\\. Codesignal developeriai nusprendė žengti pirmyn ir šį žaidimą padaryti patrauklesnį. Kiekvienam vartotojui yra priskiriami XP taškai ir lygis."
   ]
  },
  {
   "cell_type": "raw",
   "metadata": {},
   "source": [
    "WITH solved AS\n",
    "  (SELECT users.id AS id,\n",
    "          COUNT(*) AS cnt\n",
    "   FROM users,\n",
    "        solves\n",
    "   WHERE users.id = solves.user_id\n",
    "   GROUP BY users.id)\n",
    "UPDATE users\n",
    "SET XP = cnt*300,\n",
    "    LEVEL = cnt*300/200+1\n",
    "FROM solved\n",
    "WHERE users.id = solved.id;\n",
    "\n",
    "SELECT *\n",
    "FROM users\n",
    "ORDER BY LEVEL DESC;"
   ]
  },
  {
   "cell_type": "markdown",
   "metadata": {},
   "source": [
    "**Tikimės, kad šis startuolis bus sėkmingas. Viso!**"
   ]
  }
 ],
 "metadata": {
  "kernelspec": {
   "display_name": "Python 3",
   "language": "python",
   "name": "python3"
  },
  "language_info": {
   "codemirror_mode": {
    "name": "ipython",
    "version": 3
   },
   "file_extension": ".py",
   "mimetype": "text/x-python",
   "name": "python",
   "nbconvert_exporter": "python",
   "pygments_lexer": "ipython3",
   "version": "3.7.4"
  }
 },
 "nbformat": 4,
 "nbformat_minor": 2
}
