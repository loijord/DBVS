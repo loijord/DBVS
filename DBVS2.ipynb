{
 "cells": [
  {
   "cell_type": "markdown",
   "metadata": {},
   "source": [
    "Antrame laboratoriniame darbe bendrai reikėjo įgyvendinti šiuos reikalavimus:\n",
    "    \n",
    "1. Pasirinktos dalykinės srities ER diagrama, kurioje yra bent 3 logiškai pagrįstos ir tarpusavyje susiję esybės; pagal ER modelį sudaryta ir pavaizduota grafiškai DB reliacinė schema.\n",
    "2. Sukurtos ir užpildytos testiniais duomenimis lentelės (su pirminiais bei išoriniais raktais ir reikalavimais reikšmėms), jų sukūrimo (apibrėžimo), užpildymo testiniais duomenimis bei ištrynimo sakiniai.\n",
    "3. Sukurtos virtualiosios lentelės, indeksai, trigeriai, jų apibrėžimo bei ištrynimo sakiniai; duomenų paieškos, įvedimo, atnaujinimo ir trynimo sakiniai."
   ]
  },
  {
   "cell_type": "markdown",
   "metadata": {},
   "source": [
    "### ER diagrama ir DB schema"
   ]
  },
  {
   "cell_type": "markdown",
   "metadata": {},
   "source": [
    "Pasirinkau nagrinėti tipinę platformą, kurioje programuotojai įvairiomis kalbomis sprendžia uždavinius iš duoto uždavinių sąrašo ir rungtyniauja tarpusavyje. Jie taip pat turi papildomų opcijų, pavyzdžiui gali pasikviesti kitus narius į draugus arba lik'inti/dislik'inti išspręstus uždavinius. "
   ]
  },
  {
   "cell_type": "markdown",
   "metadata": {},
   "source": [
    "#### ER_diagrama\n",
    "(Išoriniai raktai pažymėti dėl patogumo)\n",
    "![](codesignal_erd.PNG)\n",
    "#### DB_schema\n",
    "![](codesignal_dbs.PNG)"
   ]
  },
  {
   "cell_type": "markdown",
   "metadata": {},
   "source": [
    "### Duomenų bazės užpildymas testiniais duomenimis\n",
    "Duomenis galima peržiūrėti nuorodoje [https://rextester.com/HXV50986](https://rextester.com/HXV50986)"
   ]
  },
  {
   "cell_type": "markdown",
   "metadata": {},
   "source": [
    "Didesnę dalį duomenų, generavau su Python naudodamas masyvų operacijas ir tam skirtus paketus: [Faker](https://pypi.org/project/Faker/) ir [Lorem](https://pypi.org/project/lorem/). Apie Faker taikymą naudojant MySQL plačiau kalba [uždaroje paskaitoje](https://www.udemy.com/course/the-ultimate-mysql-bootcamp-go-from-sql-beginner-to-expert/learn/lecture/6996800#questions)."
   ]
  }
 ],
 "metadata": {
  "kernelspec": {
   "display_name": "Python 3",
   "language": "python",
   "name": "python3"
  },
  "language_info": {
   "codemirror_mode": {
    "name": "ipython",
    "version": 3
   },
   "file_extension": ".py",
   "mimetype": "text/x-python",
   "name": "python",
   "nbconvert_exporter": "python",
   "pygments_lexer": "ipython3",
   "version": "3.7.4"
  }
 },
 "nbformat": 4,
 "nbformat_minor": 2
}
