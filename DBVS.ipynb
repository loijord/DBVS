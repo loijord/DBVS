{
 "cells": [
  {
   "cell_type": "markdown",
   "metadata": {},
   "source": [
    "# Pagrindinis puslapis\n",
    "[Nuoroda į Olego puslapį](https://docs.google.com/document/d/17xDV1KA8kTpYMzRITa4UPyauafZ_w8KdMh3NJ4ycck8/edit)"
   ]
  },
  {
   "cell_type": "markdown",
   "metadata": {},
   "source": [
    "## Pirmas laboratorinis\n",
    "\n",
    "* [Instrukcijos](https://klevas.mif.vu.lt/~baronas/dbvs/uzduot_1/informat1.htm): automatinis užduoties suformulavimas, reikalavimai, **nuorodos į papildomą informaciją**\n",
    "* Laboratorinio šaltinis: [vadovėlio](https://klevas.mif.vu.lt/~baronas/dbvs/book/index.htm) 2 [skyrius](https://klevas.mif.vu.lt/baronas/dbvs/book/dbvs002.pdf).\n",
    "* [Biblio DB aprašymas](https://klevas.mif.vu.lt/~baronas/dbvs/biblio/bibliosh.htm)."
   ]
  },
  {
   "cell_type": "markdown",
   "metadata": {},
   "source": [
    "#### Lentelės schema\n",
    "![](dbschema.png)\n",
    "#### knyga\n",
    "![](knyga.png)\n",
    "#### autorius\n",
    "![](autorius.png)\n",
    "#### skaitytojas\n",
    "![](skaitytojas.png)\n",
    "#### egzempliorius\n",
    "![](egzempliorius.png)"
   ]
  },
  {
   "cell_type": "markdown",
   "metadata": {},
   "source": [
    "### Užduotys"
   ]
  },
  {
   "cell_type": "markdown",
   "metadata": {},
   "source": [
    "1. **Visų egzempliorių, paimtų konkretaus skaitytojo, nurodyto jo numeriu, skaičius.**"
   ]
  },
  {
   "cell_type": "raw",
   "metadata": {},
   "source": [
    "/* Atvejis, kai įvedame pasirinktą skaitytojo numerį į dvi vietas */\n",
    "SELECT 1000 AS skaitytojas,\n",
    "       COUNT(*) AS paimta\n",
    "FROM Egzempliorius\n",
    "WHERE Egzempliorius.Skaitytojas = 1000;\n",
    "\n",
    "/* Atvejis, kai įvedame pasirinktą skaitytojo numerį į vieną vietą naudodami kintamojo priskyrimą (bet neišvengiame laikinųjų lentelių) */ DO $$\n",
    "DECLARE n integer;\n",
    "BEGIN\n",
    "    SELECT 1000 INTO n;\n",
    "    DROP TABLE IF EXISTS tmp_table;\n",
    "    CREATE TEMPORARY TABLE tmp_table AS\n",
    "    SELECT n as skaitytojas, COUNT(*) as paimta FROM Egzempliorius WHERE Egzempliorius.Skaitytojas = 1000;\n",
    "END $$;\n",
    "\n",
    "\n",
    "SELECT *\n",
    "FROM tmp_table;"
   ]
  },
  {
   "cell_type": "markdown",
   "metadata": {},
   "source": [
    "2. **Konkretaus skaitytojo, nurodyto jo AK, kiekvieno skaitomo egzemplioriaus numeris ir paėmimo bei grąžinimo datos.**"
   ]
  },
  {
   "cell_type": "raw",
   "metadata": {},
   "source": [
    "SELECT Egzempliorius.Nr,\n",
    "       TO_CHAR(Egzempliorius.Paimta, 'YYYY-MM-DD') AS Paimta,\n",
    "       TO_CHAR(Egzempliorius.Grazinti, 'YYYY-MM-DD') AS Grazinti\n",
    "FROM Egzempliorius,\n",
    "     Skaitytojas\n",
    "WHERE Egzempliorius.Skaitytojas = Skaitytojas.Nr\n",
    "  AND Skaitytojas.AK='49903021111';"
   ]
  },
  {
   "cell_type": "markdown",
   "metadata": {},
   "source": [
    "3. **Kiekvienam ISBN pirmųjų simbolių ketvertui visų knygų ir visų jų egzempliorių skaičiai.**"
   ]
  },
  {
   "cell_type": "code",
   "execution_count": null,
   "metadata": {},
   "outputs": [],
   "source": [
    "SELECT SUBSTRING(Egzempliorius.ISBN, 1, 4) AS ISBN_pradzia,\n",
    "       COUNT(Egzempliorius.Nr) AS egzemplioriai,\n",
    "       COUNT(Egzempliorius.Nr) AS knygos\n",
    "FROM Egzempliorius,\n",
    "     Knyga\n",
    "WHERE Egzempliorius.ISBN = Knyga.ISBN\n",
    "GROUP BY ISBN_pradzia;"
   ]
  },
  {
   "cell_type": "markdown",
   "metadata": {},
   "source": [
    "4. **Kiekvieneriems metams, kai buvo išleista bent viena knyga, pavadinimas ir ISBN tais metais išleistos knygos, kurios egzempliorių yra paimta daugiausiai.**"
   ]
  },
  {
   "cell_type": "raw",
   "metadata": {},
   "source": [
    "/* Laikinoje lentelėje yra paimtų knygų skaičius kiekvienam ISBN taip pat nurodant su ISBN susietą pavadinimą ir metus;\n",
    "Toliau sprendžiame klausimą, kaip SELECT frazėje su grupavimu prijungti su ISBN susietus stulpelius 'pavadinimas' ir 'metai' pagal https://stackoverflow.com/a/14841015/3044825 siūlomą atsakymą*/\n",
    "\n",
    "\n",
    "WITH paimtos AS\n",
    "  (SELECT knyga.ISBN,\n",
    "          pavadinimas,\n",
    "          metai,\n",
    "          COUNT(paimta) AS paimtu_kiekis\n",
    "   FROM egzempliorius\n",
    "   JOIN knyga ON knyga.ISBN=egzempliorius.ISBN\n",
    "   WHERE paimta IS NOT NULL\n",
    "     AND metai IS NOT NULL\n",
    "   GROUP BY knyga.ISBN)\n",
    "SELECT p1.isbn,\n",
    "       p1.pavadinimas,\n",
    "       p1.metai,\n",
    "       p1.paimtu_kiekis\n",
    "FROM paimtos p1\n",
    "LEFT JOIN paimtos p2 ON p1.metai=p2.metai\n",
    "AND p1.paimtu_kiekis<p2.paimtu_kiekis\n",
    "WHERE p2.paimtu_kiekis IS NULL;"
   ]
  },
  {
   "cell_type": "markdown",
   "metadata": {},
   "source": [
    "### Kitos problemos, susijusios su pirmu laboratoriniu\n",
    "\n",
    "1. Pirmas uždavinys paskatino [pasidomėti](https://stackoverflow.com/questions/1490942/how-to-declare-a-variable-in-a-postgresql-query), kaip padaryti lentelę, kurioje rodo įvestą skaičių ir jo dažnumą lentelėje. Radau apėjimą, kuris naudoja DO komandą, veikiančią nuo Postgresql 9.0 versijos. Tačiau [SQL skriptas iš CodeSignal](https://app.codesignal.com/arcade/db/time-river-revisited/G9zoZjTzk6JpJGFbd), naudojamas priskyrimui, skiriasi. "
   ]
  },
  {
   "cell_type": "markdown",
   "metadata": {},
   "source": [
    "##### Rextester"
   ]
  },
  {
   "cell_type": "raw",
   "metadata": {},
   "source": [
    "CREATE TABLE edges(node1 INTEGER, node2 INTEGER);\n",
    "INSERT INTO edges VALUES\n",
    "    (1, 3),\n",
    "    (1, 5),\n",
    "    (2, 3),\n",
    "    (4, 3),\n",
    "    (2, 5);\n",
    "    \n",
    "DO $$\n",
    "DECLARE n integer;\n",
    "BEGIN\n",
    "    SELECT 5 INTO n;\n",
    "    DROP TABLE IF EXISTS tmp_table;\n",
    "    CREATE TEMPORARY TABLE tmp_table AS    \n",
    "    SELECT n as vertex, COUNT(*) as degree FROM edges WHERE edges.node1 = n or edges.node2 = n;\n",
    "END $$;\n",
    "SELECT * FROM tmp_table;\n",
    "/*SELECT n, COUNT(*) as degree FROM edges WHERE edges.node1 = n or edges.node2 = n; - netinka, n neapibrėžtas*/"
   ]
  },
  {
   "cell_type": "markdown",
   "metadata": {},
   "source": [
    "##### Codesignal"
   ]
  },
  {
   "cell_type": "raw",
   "metadata": {},
   "source": [
    "CREATE PROCEDURE alarmClocks()\n",
    "BEGIN\n",
    "SET @n := 3;\n",
    "SET @m := 10;\n",
    "DROP TABLE IF EXISTS integers;\n",
    "CREATE TEMPORARY TABLE integers(number INT);\n",
    "\tWHILE @n < @m DO\n",
    "        INSERT INTO integers SELECT @n;\n",
    "        SET @n := @n + 1;\n",
    "    END WHILE;\n",
    "SELECT * FROM integers;\n",
    "END"
   ]
  },
  {
   "cell_type": "markdown",
   "metadata": {},
   "source": [
    "2. Ketvirtame uždavinyje susidūriau su problema, kai neįmanoma vienu metu sugrupuoti lentelės pagal kažkurį stulpelį ir įterpti kitų stulpelių, nei tas, pagal kurį grupuojamos maksimalios reikšmės. \n",
    "Kitaip tariant, toks sprendimas netinka:\n",
    "    \n"
   ]
  },
  {
   "cell_type": "raw",
   "metadata": {},
   "source": [
    "CREATE TABLE X(a INT, b INT, C INT);\n",
    "INSERT INTO X(a, b, c) VALUES\n",
    "(1, 1, 10),\n",
    "(1, 2, 12),\n",
    "(1, 3, 14),\n",
    "(2, 1, 13),\n",
    "(2, 2, 9),\n",
    "(2, 3, 7);\n",
    "\n",
    "SELECT a, b, MAX(c)\n",
    "FROM X\n",
    "GROUP BY a;"
   ]
  },
  {
   "cell_type": "markdown",
   "metadata": {},
   "source": [
    "[Stackoverflow](https://stackoverflow.com/questions/3491329/group-by-with-maxdate) siūlo tokius sprendimo būdus:"
   ]
  },
  {
   "cell_type": "markdown",
   "metadata": {},
   "source": [
    "##### Basic, multiple passes"
   ]
  },
  {
   "cell_type": "code",
   "execution_count": null,
   "metadata": {},
   "outputs": [],
   "source": [
    "WITH Y AS\n",
    "  (SELECT a, MAX(c) AS c\n",
    "   FROM X\n",
    "   GROUP BY a)\n",
    "SELECT X.a, X.b, X.c\n",
    "FROM X INNER JOIN Y ON (X.a = Y.a) AND (X.c=Y.c);"
   ]
  },
  {
   "cell_type": "markdown",
   "metadata": {},
   "source": [
    "##### one pass, uses ranking"
   ]
  },
  {
   "cell_type": "code",
   "execution_count": null,
   "metadata": {},
   "outputs": [],
   "source": [
    "With Y AS(\n",
    "    SELECT a, b, c, \n",
    "    RANK() OVER (PARTITION BY a ORDER BY b DESC) d\n",
    "    FROM X\n",
    "    )\n",
    "SELECT a, b, c\n",
    "FROM Y\n",
    "WHERE d = 1;"
   ]
  },
  {
   "cell_type": "markdown",
   "metadata": {},
   "source": [
    "##### clever looks optimised but actually slow"
   ]
  },
  {
   "cell_type": "raw",
   "metadata": {},
   "source": [
    "SELECT Y.a, Y.b, Y.c\n",
    "FROM X Y LEFT JOIN X Z\n",
    "ON (Y.a = Z.a AND Y.c < Z.c)\n",
    "WHERE Z.a IS NULL;"
   ]
  },
  {
   "cell_type": "markdown",
   "metadata": {},
   "source": [
    "### Antras laboratorinis\n",
    "\n",
    "* [Trigerio pavyzdys](https://stackoverflow.com/questions/9556474/how-do-i-automatically-update-a-timestamp-in-postgresql/9556527#9556527) + [paprastesnis pavyzdys](https://www.postgresqltutorial.com/creating-first-trigger-postgresql/)\n",
    "* [Instrukcijos](https://docs.google.com/document/d/1WABh5bWES6Hz3qHXjd2P87JbFK6FV56znRiRuXEmKb0/edit), ką ten daryti\n",
    "* Laboratorinio šaltinis: [vadovėlio](https://klevas.mif.vu.lt/~baronas/dbvs/book/index.htm) 2-9 skyriai."
   ]
  },
  {
   "cell_type": "markdown",
   "metadata": {},
   "source": [
    "### Medžiaga\n",
    "* [Olego tutorialai](https://www.youtube.com/channel/UCmrFaH8yLvYGYpPLcUHdcaA/videos?view_as=subscriber)\n",
    "* [Papildomas tekstinis tutorial](https://www.postgresqltutorial.com)\n",
    "* [Nuoroda į formatavimą](https://sqlformat.org/)\n",
    "* [Darbo aplinka užduotims atlikti](https://rextester.com/l/postgresql_online_compiler)\n",
    "* [Codesignal arkada](https://app.codesignal.com/arcade)\n",
    "* [Udemy kursai](https://www.udemy.com/course/the-ultimate-mysql-bootcamp-go-from-sql-beginner-to-expert/learn/lecture/6914144)"
   ]
  },
  {
   "cell_type": "markdown",
   "metadata": {},
   "source": [
    "### Lentelių kūrimas ir duomenų bazės pildymas"
   ]
  },
  {
   "cell_type": "markdown",
   "metadata": {},
   "source": [
    "#### Stud"
   ]
  },
  {
   "cell_type": "raw",
   "metadata": {},
   "source": [
    "CREATE TABLE Knyga (\n",
    "    ISBN           CHAR(13)    NOT NULL,\n",
    "    Pavadinimas  VARCHAR(32) NOT NULL,\n",
    "    Leidykla       CHAR(12)    NOT NULL,\n",
    "    Metai       SMALLINT    NOT NULL CONSTRAINT LeidimoMetai \n",
    "                                         CHECK(Metai > 1900 AND Metai < EXTRACT(YEAR FROM CURRENT_DATE) + 1),\n",
    "    Puslapiai   SMALLINT    NOT NULL CONSTRAINT PuslapiuSkaicius CHECK(Puslapiai > 0 AND Puslapiai < 2000),\n",
    "    Verte       DECIMAL(5,2) CONSTRAINT VertesDydis CHECK(Verte > 0 AND Verte < 1000),\n",
    "    PRIMARY KEY (ISBN)\n",
    ");\n",
    "\n",
    "CREATE TABLE Autorius (\n",
    "    ISBN        CHAR(13)    NOT NULL,\n",
    "    Vardas      CHAR(12)    NOT NULL,\n",
    "    Pavarde     VARCHAR(20) NOT NULL,\n",
    "    PRIMARY KEY (ISBN,Vardas,Pavarde),\n",
    "    CONSTRAINT IKyga FOREIGN KEY (ISBN) REFERENCES Knyga ON DELETE CASCADE ON UPDATE RESTRICT\n",
    ");\n",
    "\n",
    "CREATE TABLE Skaitytojas (\n",
    "    Nr          INTEGER     NOT NULL,\n",
    "    AK          CHAR(11)    NOT NULL,\n",
    "    Vardas      CHAR(12)    NOT NULL,\n",
    "    Pavarde     VARCHAR(20) NOT NULL,\n",
    "    Gimimas     DATE        NOT NULL,\n",
    "    Adresas     VARCHAR(32),\n",
    "    PRIMARY KEY (Nr)\n",
    ");\n",
    "\n",
    "CREATE TABLE Egzempliorius (\n",
    "    Nr            INTEGER     NOT NULL,\n",
    "    ISBN        CHAR(13)    NOT NULL,\n",
    "    Skaitytojas INTEGER,\n",
    "    Paimta       DATE,\n",
    "    Grazinti     DATE,\n",
    "    PRIMARY KEY (Nr),\n",
    "    CONSTRAINT IKnyga FOREIGN KEY (ISBN)             REFERENCES Knyga       ON DELETE CASCADE ON UPDATE RESTRICT,\n",
    "    CONSTRAINT ISkaitytoja FOREIGN KEY (Skaitytojas) REFERENCES Skaitytojas ON DELETE RESTRICT ON UPDATE RESTRICT,\n",
    "    CONSTRAINT  GrazintiVeliau CHECK(Grazinti >= Paimta) \n",
    ");\n",
    "\n",
    "INSERT INTO Knyga(ISBN, Pavadinimas, Leidykla, Metai, Puslapiai, Verte) VALUES\n",
    "    ('9998-01-101-9','Duomenu bazes', 'Baltoji', 2005, 212, NULL ),\n",
    "    ('9998-01-102-7','Programavimo kalbos', 'Baltoji', 2006, 401, 22.50),\n",
    "    ('9999-02-202-2','Operacines sistemos', 'Juodoji', 2006, 356, 19.90),\n",
    "    ('9999-02-203-0','Transliavimo metodai', 'Juodoji', 2007, 495, 30.00),\n",
    "    ('9998-01-103-5','Objektinis programavimas','Baltoji', 2006, 356, 19.90),\n",
    "    ('9997-03-303-5','Informacines sistemos', 'Raudonoji', 2006, 254, 15.50),\n",
    "    ('9998-01-104-3','Kompiuteriu tinklai', 'Baltoji', 2007, 455, 35.20);\n",
    "\n",
    "INSERT INTO Autorius(ISBN,Vardas,Pavarde) VALUES\n",
    "    ('9998-01-101-9', 'Jonas', 'Jonaitis' ),\n",
    "    ('9998-01-101-9', 'Petras', 'Petraitis' ),\n",
    "    ('9998-01-102-7', 'Pijus', 'Jonaitis' ),\n",
    "    ('9999-02-202-2', 'Pijus', 'Jonaitis' ),\n",
    "    ('9999-02-202-2', 'Onute', 'Jonaityte' ),\n",
    "    ('9999-02-202-2', 'Jonas', 'Petraitis' ),\n",
    "    ('9999-02-202-2', 'Jonas', 'Jonaitis' ),\n",
    "    ('9999-02-203-0', 'Juozas', 'Juodakis' ),\n",
    "    ('9999-02-203-0', 'Antanas', 'Antanaitis'),\n",
    "    ('9998-01-103-5', 'Maryte', 'Grazulyte' ),\n",
    "    ('9998-01-103-5', 'Janina', 'Jonaityte' ),\n",
    "    ('9997-03-303-5', 'Simas', 'Simaitis' ),\n",
    "    ('9997-03-303-5', 'Petras', 'Petraitis' ),\n",
    "    ('9997-03-303-5', 'Simas', 'Baltakis' ),\n",
    "    ('9998-01-104-3', 'Jonas', 'Petraitis' );\n",
    "\n",
    "    \n",
    "INSERT INTO Skaitytojas(Nr, AK, Vardas, Pavarde, Gimimas, Adresas) VALUES\n",
    "    (1000, '50101010222', 'Jonas', 'Petraitis', '2001-01-01', 'Tiesioji 1-10' ),\n",
    "    (1001, '39902200102', 'Jonas', 'Onaitis', '1999-02-28', 'Lenktoji 20' ),\n",
    "    (1010, '49903021111', 'Milda', 'Onaityte', '1999-03-02', 'Didzioji 21-5' ),\n",
    "    (1015, '49906301011', 'Onute', 'Petraityte','1999-06-30', 'Didzioji 21-5' ),\n",
    "    (1021, '39905301031', 'Petras', 'Jonaitis', '1999-05-30', 'Mazoji 1' ),\n",
    "    (1032, '39912310031', 'Tadas', 'Onaitis', '1999-12-31', 'Tiesioji 12' ),\n",
    "    (1033, '49911300131', 'Grazina', 'Petraityte','1999-11-30', 'Tiesioji 1-10' ),\n",
    "    (1011, '50111010055', 'Jonas', 'Adomaitis','2001-01-01', 'Mazoji 1' );\n",
    "\n",
    "INSERT INTO Egzempliorius(Nr, ISBN, Skaitytojas, Paimta, Grazinti) VALUES\n",
    "    (32101, '9998-01-101-9', NULL, NULL, NULL ),\n",
    "    (32102, '9998-01-101-9', NULL, NULL, NULL ),\n",
    "    (32103, '9998-01-101-9', NULL, NULL, NULL ),\n",
    "    (32104, '9998-01-101-9', 1000, '2019-10-02', '2019-10-05' ),\n",
    "    (32105, '9998-01-101-9', 1010, '2019-09-04', '2019-10-04' ),\n",
    "    (32106, '9998-01-101-9', 1021, '2019-09-14', '2019-10-04' ),\n",
    "    (32107, '9998-01-101-9', NULL, NULL, NULL ),\n",
    "    (32108, '9998-01-101-9', 1001, '2019-10-02', '2019-10-14' ),\n",
    "    (32109, '9998-01-101-9', 1032, '2019-09-20', '2019-10-05' ),\n",
    "\n",
    "    (32200, '9998-01-102-7', NULL, NULL, NULL ),\n",
    "    (32201, '9998-01-102-7', 1021, '2019-10-02', '2019-11-04' ),\n",
    "\n",
    "    (32301, '9999-02-202-2', 1000, '2019-10-02', '2019-10-15' ),\n",
    "    (32302, '9999-02-202-2', 1021, '2019-09-14', '2019-10-04' ),\n",
    "    (32303, '9999-02-202-2', NULL, NULL, NULL ),\n",
    "\n",
    "    (32330, '9999-02-203-0', NULL, NULL, NULL ),\n",
    "    (32331, '9999-02-203-0', NULL, NULL, NULL ),\n",
    "    (32332, '9999-02-203-0', 1010, '2019-09-14', '2019-10-05' ),\n",
    "    (32333, '9999-02-203-0', 1015, '2019-10-14', '2019-11-05' ),\n",
    "\n",
    "    (32401, '9998-01-103-5', NULL, NULL, NULL ),\n",
    "    (32402, '9998-01-103-5', 1032, '2019-09-20', '2019-10-05' ),\n",
    "    (32403, '9998-01-103-5', NULL, NULL, NULL ),\n",
    "    (32404, '9998-01-103-5', NULL, NULL, NULL ),\n",
    "    (32405, '9998-01-103-5', NULL, NULL, NULL ),\n",
    "    (32406, '9998-01-103-5', 1010, '2019-09-14', '2019-10-04' ),\n",
    "\n",
    "    (32501, '9997-03-303-5', 1010, '2019-10-14', '2019-11-04' ),\n",
    "    (32502, '9997-03-303-5', 1032, '2019-09-20', '2019-10-04' ),\n",
    "    (32503, '9997-03-303-5', 1015, '2019-09-20', '2019-10-05' ),\n",
    "    (32504, '9997-03-303-5', 1001, '2019-10-06', '2019-11-05' ),\n",
    "\n",
    "    (32601, '9998-01-104-3', NULL, NULL, NULL ),\n",
    "    (32602, '9998-01-104-3', NULL, NULL, NULL ),\n",
    "    (32603, '9998-01-104-3', NULL, NULL, NULL ),\n",
    "    (32604, '9998-01-104-3', NULL, NULL, NULL ),\n",
    "    (32605, '9998-01-104-3', NULL, NULL, NULL );"
   ]
  },
  {
   "cell_type": "markdown",
   "metadata": {},
   "source": [
    "#### Darbai"
   ]
  },
  {
   "cell_type": "raw",
   "metadata": {},
   "source": [
    "CREATE SCHEMA Darbai;\n",
    "\n",
    "CREATE TABLE Vykdytojai(\n",
    "    Nr INT,\n",
    "    Pavardė VARCHAR(30),\n",
    "    Kvalifikacija VARCHAR(30),\n",
    "    Kategorija INT,\n",
    "    Išsilavinimas VARCHAR(30)\n",
    ");\n",
    "\n",
    "CREATE TABLE Projektai(\n",
    "    Nr INTEGER,\n",
    "    Pavadinimas VARCHAR(30),\n",
    "    Svarba VARCHAR(30),\n",
    "    Pradžia DATE,\n",
    "    Trukmė INTEGER\n",
    ");\n",
    "\n",
    "CREATE TABLE Vykdymas(\n",
    "    Projektas INTEGER,\n",
    "    Vykdytojas INTEGER,\n",
    "    Statusas VARCHAR(30),\n",
    "    Valandos INTEGER\n",
    ");\n",
    "\n",
    "INSERT INTO Vykdytojai(Nr, Pavardė, Kvalifikacija, Kategorija, Išsilavinimas) VALUES\n",
    "    (1, 'Jonaitis', 'Informatikas', 2, 'VU'),\n",
    "    (2, 'Petraitis', 'Statistikas', 3, 'VU'),\n",
    "    (3, 'Gražulytė', 'Inžinierius', 1, NULL),\n",
    "    (4, 'Onaitytė', 'Vadybininkas', 5, 'VDU'),\n",
    "    (5, 'Antanaitis', 'Informatikas', 3, 'VU');\n",
    "\n",
    "INSERT INTO Projektai VALUES\n",
    "    (1, 'Studentų apskaita', 'Maža', '2017-01-01', 12),\n",
    "    (2, 'Buhalterinė apskaita', 'Vidutinė', '2017-03-01', 10),\n",
    "    (3, 'WWW svetainė', 'Didelė', '2017-06-01', 2);\n",
    "\n",
    "INSERT INTO Vykdymas VALUES\n",
    "    (1, 1, 'Programuotojas', 30),\n",
    "    (1, 2, 'Dokumentuotojas', 100),\n",
    "    (1, 3, 'Testuotojas', 100),\n",
    "    (1, 4, 'Vadovas', 100),\n",
    "    (2, 1, 'Programuotojas', 300),\n",
    "    (2, 2, 'Analitikas', 250),\n",
    "    (2, 4, 'Vadovas', 100),\n",
    "    (3, 1, 'Programuotojas', 250),\n",
    "    (3, 2, 'Vadovas', 400),\n",
    "    (3, 3, 'Dizaineris', 150);\n",
    "\n",
    "SELECT * FROM Vykdymas;"
   ]
  },
  {
   "cell_type": "markdown",
   "metadata": {},
   "source": [
    "### Codesignal aplinka"
   ]
  },
  {
   "cell_type": "raw",
   "metadata": {},
   "source": [
    "CREATE PROCEDURE salaryDifference()\n",
    "BEGIN\n",
    "DROP TABLE IF EXISTS Vykdytojai;\n",
    "DROP TABLE IF EXISTS Projektai;\n",
    "DROP TABLE IF EXISTS Vykdymas;\n",
    "...\n",
    "END"
   ]
  },
  {
   "cell_type": "markdown",
   "metadata": {},
   "source": [
    "### Egzamino temos\n",
    "* DB ir DBVS samprata, paskirtis ir funkcijos.\n",
    "* Pagrindinės reliacinio duomenų modelio sąvokos.\n",
    "* Reliacinių DB projektavimas: ER modelis, ER diagramos, jų transformavimas į reliacinį duomenų modelį.\n",
    "* DB norminės formos.\n",
    "* SQL kalba: pagrindiniai kalbos elementai, duomenų apibrėžimo, išrinkimo, modifikavimo ir valdymo sakiniai.\n",
    "* Duomenų analizė agreguojant ir grupuojant duomenis.\n",
    "* Duomenų vientisumo užtikrinimas: reikalavimai reikšmėms, lentelių raktai, išoriniai raktai, dalykinės taisyklės, trigeriai, transakcijos.\n",
    "* Virtualiosios lentelės.\n",
    "* Duomenų indeksavimas.\n",
    "* Duomenų saugumas.\n",
    "* Efektyvaus DBVS funkcionavimo užtikrinimas.\n",
    "* NoSQL ir NewSQL DBVS.\n"
   ]
  },
  {
   "cell_type": "code",
   "execution_count": 3,
   "metadata": {},
   "outputs": [
    {
     "name": "stdout",
     "output_type": "stream",
     "text": [
      "ER modelis \n",
      "wrong, ER modelis yra formalizuotas dalykinės srities aprašas\n"
     ]
    },
    {
     "ename": "TypeError",
     "evalue": "unsupported operand type(s) for /: 'int' and 'set'",
     "output_type": "error",
     "traceback": [
      "\u001b[1;31m---------------------------------------------------------------------------\u001b[0m",
      "\u001b[1;31mTypeError\u001b[0m                                 Traceback (most recent call last)",
      "\u001b[1;32m<ipython-input-3-8ae005dd0378>\u001b[0m in \u001b[0;36m<module>\u001b[1;34m\u001b[0m\n\u001b[0;32m     15\u001b[0m             \u001b[1;32mdel\u001b[0m \u001b[0munans\u001b[0m\u001b[1;33m[\u001b[0m\u001b[0mi\u001b[0m\u001b[1;33m]\u001b[0m\u001b[1;33m\u001b[0m\u001b[1;33m\u001b[0m\u001b[0m\n\u001b[0;32m     16\u001b[0m         \u001b[1;32mif\u001b[0m \u001b[0mx\u001b[0m\u001b[1;33m==\u001b[0m\u001b[1;34m''\u001b[0m\u001b[1;33m:\u001b[0m \u001b[1;32mbreak\u001b[0m\u001b[1;33m\u001b[0m\u001b[1;33m\u001b[0m\u001b[0m\n\u001b[1;32m---> 17\u001b[1;33m     \u001b[0mprint\u001b[0m\u001b[1;33m(\u001b[0m\u001b[1;34mf'{len(unans)/{X}} is left'\u001b[0m\u001b[1;33m)\u001b[0m\u001b[1;33m\u001b[0m\u001b[1;33m\u001b[0m\u001b[0m\n\u001b[0m\u001b[0;32m     18\u001b[0m \u001b[0mprint\u001b[0m\u001b[1;33m(\u001b[0m\u001b[1;34m'all clear'\u001b[0m\u001b[1;33m)\u001b[0m\u001b[1;33m\u001b[0m\u001b[1;33m\u001b[0m\u001b[0m\n",
      "\u001b[1;31mTypeError\u001b[0m: unsupported operand type(s) for /: 'int' and 'set'"
     ]
    }
   ],
   "source": [
    "### Bankas\n",
    "d = dict()\n",
    "d['ER modelis'] = 'formalizuotas dalykinės srities aprašas'\n",
    "d['Esybė'] = 'vienatipių objektų klasė'\n",
    "from random import shuffle\n",
    "unans = [n for n in d]\n",
    "while len(unans):\n",
    "    X = len(unans)\n",
    "    shuffle(unans)\n",
    "    for i in range(len(unans)-1,-1,-1):\n",
    "        x = input(unans[i]+' ')\n",
    "        if x != d[unans[i]].lower():\n",
    "            print(f'wrong, {unans[i]} yra {d[unans[i]]}')\n",
    "        else: \n",
    "            print('right')\n",
    "            del unans[i]\n",
    "        if x=='': break\n",
    "    print(f'{len(unans)}/{X} is left')\n",
    "print('all clear')"
   ]
  },
  {
   "cell_type": "code",
   "execution_count": null,
   "metadata": {},
   "outputs": [],
   "source": []
  }
 ],
 "metadata": {
  "kernelspec": {
   "display_name": "Python 3",
   "language": "python",
   "name": "python3"
  },
  "language_info": {
   "codemirror_mode": {
    "name": "ipython",
    "version": 3
   },
   "file_extension": ".py",
   "mimetype": "text/x-python",
   "name": "python",
   "nbconvert_exporter": "python",
   "pygments_lexer": "ipython3",
   "version": "3.7.4"
  }
 },
 "nbformat": 4,
 "nbformat_minor": 2
}
